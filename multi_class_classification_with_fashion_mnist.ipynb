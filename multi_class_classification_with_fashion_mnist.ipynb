{
  "cells": [
    {
      "cell_type": "markdown",
      "metadata": {
        "id": "X-8DQyzTfKyg"
      },
      "source": [
        "\n",
        "\n",
        "1. Using SparseCategoricalCrossentropy(non one-hot encoding)     with fashion_mnist data set .\n",
        "2.  Also testing the model(which turns out pretty bad at observing).\n",
        "\n",
        "\n",
        "\n",
        "3.  Have basic knowledge on MULTI_CLASS_CLASSIFICATION\n",
        "\n",
        "\n",
        "\n",
        " .\n"
      ]
    },
    {
      "cell_type": "code",
      "execution_count": null,
      "metadata": {
        "colab": {
          "base_uri": "https://localhost:8080/"
        },
        "id": "PjbVBXYee6jY",
        "outputId": "290cb1c5-720c-4571-fdcd-8aa42405cced"
      },
      "outputs": [
        {
          "name": "stdout",
          "output_type": "stream",
          "text": [
            "Downloading data from https://storage.googleapis.com/tensorflow/tf-keras-datasets/train-labels-idx1-ubyte.gz\n",
            "29515/29515 [==============================] - 0s 0us/step\n",
            "Downloading data from https://storage.googleapis.com/tensorflow/tf-keras-datasets/train-images-idx3-ubyte.gz\n",
            "26421880/26421880 [==============================] - 2s 0us/step\n",
            "Downloading data from https://storage.googleapis.com/tensorflow/tf-keras-datasets/t10k-labels-idx1-ubyte.gz\n",
            "5148/5148 [==============================] - 0s 0us/step\n",
            "Downloading data from https://storage.googleapis.com/tensorflow/tf-keras-datasets/t10k-images-idx3-ubyte.gz\n",
            "4422102/4422102 [==============================] - 1s 0us/step\n"
          ]
        }
      ],
      "source": [
        "import tensorflow as tf\n",
        "from tensorflow.keras.datasets import fashion_mnist\n",
        "(train_data,train_labels),(test_data,test_labels)=fashion_mnist.load_data()\n",
        "train_data.shape\n",
        "import matplotlib.pyplot as plt\n"
      ]
    },
    {
      "cell_type": "markdown",
      "metadata": {
        "id": "Sujw_xUifJvQ"
      },
      "source": []
    },
    {
      "cell_type": "code",
      "execution_count": null,
      "metadata": {
        "colab": {
          "base_uri": "https://localhost:8080/",
          "height": 35
        },
        "id": "WRp8RZQheoeN",
        "outputId": "2efab7cf-b34e-4a47-e84c-7291132713dc"
      },
      "outputs": [
        {
          "data": {
            "application/vnd.google.colaboratory.intrinsic+json": {
              "type": "string"
            },
            "text/plain": [
              "'Sandal'"
            ]
          },
          "execution_count": 2,
          "metadata": {},
          "output_type": "execute_result"
        }
      ],
      "source": [
        "class_names=[\"T-shirt\",\"Trouser\",\"Pullover\",\"Dress\",\"Coat\",\"Sandal\",\"Shirt\",\"Sneaker\",\"Bag\",\"Ankle boot\"]\n",
        "len(class_names)\n",
        "class_names[train_labels[12]]"
      ]
    },
    {
      "cell_type": "code",
      "execution_count": null,
      "metadata": {
        "colab": {
          "base_uri": "https://localhost:8080/",
          "height": 469
        },
        "id": "unxeyePseqM8",
        "outputId": "5792a256-731f-4f49-d85d-521eb770b6ec"
      },
      "outputs": [
        {
          "data": {
            "text/plain": [
              "Text(0.5, 1.0, 'Sandal')"
            ]
          },
          "execution_count": 3,
          "metadata": {},
          "output_type": "execute_result"
        },
        {
          "data": {
            "image/png": "[encoded data removed]",
            "text/plain": [
              "<Figure size 640x480 with 1 Axes>"
            ]
          },
          "metadata": {},
          "output_type": "display_data"
        }
      ],
      "source": [
        "\n",
        "plt.imshow(train_data[12],cmap=plt.cm.binary)\n",
        "plt.title(class_names[train_labels[12]])"
      ]
    },
    {
      "cell_type": "markdown",
      "metadata": {
        "id": "atBONtEze1Qq"
      },
      "source": [
        "image sample"
      ]
    },
    {
      "cell_type": "code",
      "execution_count": null,
      "metadata": {
        "colab": {
          "base_uri": "https://localhost:8080/"
        },
        "id": "l-2PWzDhep9t",
        "outputId": "3cd12f1d-e719-4f94-d7ff-6de4793838bf"
      },
      "outputs": [
        {
          "name": "stdout",
          "output_type": "stream",
          "text": [
            "Epoch 1/20\n",
            "1875/1875 [==============================] - 23s 9ms/step - loss: 2.1722 - accuracy: 0.1542 - val_loss: 2.0849 - val_accuracy: 0.1780\n",
            "Epoch 2/20\n",
            "1875/1875 [==============================] - 10s 6ms/step - loss: 1.9257 - accuracy: 0.2401 - val_loss: 1.6588 - val_accuracy: 0.3415\n",
            "Epoch 3/20\n",
            "1875/1875 [==============================] - 7s 4ms/step - loss: 1.5753 - accuracy: 0.3505 - val_loss: 1.5176 - val_accuracy: 0.3507\n",
            "Epoch 4/20\n",
            "1875/1875 [==============================] - 5s 3ms/step - loss: 1.4969 - accuracy: 0.3535 - val_loss: 1.4745 - val_accuracy: 0.3485\n",
            "Epoch 5/20\n",
            "1875/1875 [==============================] - 4s 2ms/step - loss: 1.4547 - accuracy: 0.3576 - val_loss: 1.4665 - val_accuracy: 0.3370\n",
            "Epoch 6/20\n",
            "1875/1875 [==============================] - 6s 3ms/step - loss: 1.4320 - accuracy: 0.3692 - val_loss: 1.4186 - val_accuracy: 0.3953\n",
            "Epoch 7/20\n",
            "1875/1875 [==============================] - 7s 4ms/step - loss: 1.4084 - accuracy: 0.3822 - val_loss: 1.3991 - val_accuracy: 0.3928\n",
            "Epoch 8/20\n",
            "1875/1875 [==============================] - 5s 3ms/step - loss: 1.3935 - accuracy: 0.3849 - val_loss: 1.4088 - val_accuracy: 0.3570\n",
            "Epoch 9/20\n",
            "1875/1875 [==============================] - 5s 2ms/step - loss: 1.4027 - accuracy: 0.3857 - val_loss: 1.4070 - val_accuracy: 0.3831\n",
            "Epoch 10/20\n",
            "1875/1875 [==============================] - 6s 3ms/step - loss: 1.3936 - accuracy: 0.3911 - val_loss: 1.4010 - val_accuracy: 0.3881\n",
            "Epoch 11/20\n",
            "1875/1875 [==============================] - 6s 3ms/step - loss: 1.3828 - accuracy: 0.3985 - val_loss: 1.3753 - val_accuracy: 0.4079\n",
            "Epoch 12/20\n",
            "1875/1875 [==============================] - 5s 3ms/step - loss: 1.3702 - accuracy: 0.4097 - val_loss: 1.3683 - val_accuracy: 0.4131\n",
            "Epoch 13/20\n",
            "1875/1875 [==============================] - 6s 3ms/step - loss: 1.3515 - accuracy: 0.4159 - val_loss: 1.3480 - val_accuracy: 0.4215\n",
            "Epoch 14/20\n",
            "1875/1875 [==============================] - 5s 3ms/step - loss: 1.3436 - accuracy: 0.4175 - val_loss: 1.3550 - val_accuracy: 0.4245\n",
            "Epoch 15/20\n",
            "1875/1875 [==============================] - 5s 3ms/step - loss: 1.3352 - accuracy: 0.4227 - val_loss: 1.3250 - val_accuracy: 0.4316\n",
            "Epoch 16/20\n",
            "1875/1875 [==============================] - 5s 3ms/step - loss: 1.3211 - accuracy: 0.4273 - val_loss: 1.3660 - val_accuracy: 0.4384\n",
            "Epoch 17/20\n",
            "1875/1875 [==============================] - 4s 2ms/step - loss: 1.3061 - accuracy: 0.4312 - val_loss: 1.3156 - val_accuracy: 0.4368\n",
            "Epoch 18/20\n",
            "1875/1875 [==============================] - 6s 3ms/step - loss: 1.2905 - accuracy: 0.4398 - val_loss: 1.3089 - val_accuracy: 0.4425\n",
            "Epoch 19/20\n",
            "1875/1875 [==============================] - 5s 3ms/step - loss: 1.2716 - accuracy: 0.4481 - val_loss: 1.3028 - val_accuracy: 0.4444\n",
            "Epoch 20/20\n",
            "1875/1875 [==============================] - 5s 3ms/step - loss: 1.2725 - accuracy: 0.4493 - val_loss: 1.2774 - val_accuracy: 0.4553\n"
          ]
        }
      ],
      "source": [
        "tf.random.set_seed(42)\n",
        "model_11 = tf.keras.Sequential([\n",
        "    tf.keras.layers.Flatten(input_shape=(28,28)),\n",
        "  tf.keras.layers.Dense(4, activation=\"relu\"),\n",
        "  tf.keras.layers.Dense(4, activation=\"relu\"),\n",
        "  tf.keras.layers.Dense(10, activation=\"softmax\")])\n",
        "model_11.compile(\n",
        "                  loss=tf.keras.losses.SparseCategoricalCrossentropy(),\n",
        "                  optimizer=tf.keras.optimizers.Adam(),\n",
        "                  metrics=[\"accuracy\"])\n",
        "n = model_11.fit(train_data, train_labels, epochs=20, validation_data=(test_data, test_labels))"
      ]
    },
    {
      "cell_type": "code",
      "execution_count": null,
      "metadata": {
        "colab": {
          "base_uri": "https://localhost:8080/",
          "height": 517
        },
        "id": "HKYogq74eyR-",
        "outputId": "22246dde-0f61-4816-8fda-41f85d0cf91b"
      },
      "outputs": [
        {
          "name": "stdout",
          "output_type": "stream",
          "text": [
            "1/1 [==============================] - 0s 140ms/step\n",
            "[[1.6533215e-01 1.6704665e-01 1.6511399e-01 1.6577430e-01 1.6415134e-01\n",
            "  1.1178905e-03 1.6268916e-01 9.9433255e-06 7.4370434e-03 1.3274556e-03]]\n",
            "--> Trouser\n",
            "real T-shirt\n"
          ]
        },
        {
          "data": {
            "image/png": "[encoded data removed]",
            "text/plain": [
              "<Figure size 640x480 with 1 Axes>"
            ]
          },
          "metadata": {},
          "output_type": "display_data"
        }
      ],
      "source": [
        "k=1\n",
        "f=model_11.predict(train_data[k].reshape(1,28,28))\n",
        "print(f)\n",
        "print(\"expected -->\",class_names[f.argmax()])\n",
        "plt.imshow(train_data[k],cmap=plt.cm.binary)\n",
        "print(\"real {}\".format(class_names[train_labels[k]]))"
      ]
    }
  ],
  "metadata": {
    "colab": {
      "provenance": []
    },
    "kernelspec": {
      "display_name": "Python 3",
      "name": "python3"
    },
    "language_info": {
      "name": "python"
    }
  },
  "nbformat": 4,
  "nbformat_minor": 0
}
