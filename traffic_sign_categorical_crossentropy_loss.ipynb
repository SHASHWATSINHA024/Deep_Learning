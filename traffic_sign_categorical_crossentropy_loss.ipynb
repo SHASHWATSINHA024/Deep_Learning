{
  "cells": [
    {
      "cell_type": "code",
      "execution_count": 83,
      "metadata": {
        "colab": {
          "base_uri": "https://localhost:8080/"
        },
        "id": "ja8ZhZNYiOyZ",
        "outputId": "3b25cded-b3c5-412a-aa30-086891d5c2ac"
      },
      "outputs": [
        {
          "name": "stdout",
          "output_type": "stream",
          "text": [
            "Drive already mounted at /content/drive; to attempt to forcibly remount, call drive.mount(\"/content/drive\", force_remount=True).\n"
          ]
        }
      ],
      "source": [
        "\n",
        "from google.colab import drive\n",
        "drive.mount('/content/drive')\n"
      ]
    },
    {
      "cell_type": "code",
      "execution_count": 84,
      "metadata": {
        "id": "VG_JV6zRJD4l"
      },
      "outputs": [],
      "source": [
        "import numpy as np\n",
        "import matplotlib.pyplot as plt\n",
        "import tensorflow as tf\n",
        "\n",
        "from tensorflow.keras.models import *\n",
        "from tensorflow.keras.layers import *\n",
        "from tensorflow.keras.optimizers import *\n",
        "from tensorflow.keras.utils import *\n",
        "\n",
        "\n",
        "from keras.preprocessing import image\n",
        "from keras.layers import Dropout,Flatten\n",
        "from keras.layers import Conv2D,MaxPooling2D\n",
        "import cv2\n",
        "from sklearn.model_selection import train_test_split\n",
        "import os\n",
        "\n",
        "\n",
        "import pandas as pd\n",
        "from keras.preprocessing.image import ImageDataGenerator"
      ]
    },
    {
      "cell_type": "code",
      "execution_count": 85,
      "metadata": {
        "colab": {
          "base_uri": "https://localhost:8080/"
        },
        "id": "TZalG_vhwn6Y",
        "outputId": "54d41875-bfa9-4cae-d427-eb8286ce2e85"
      },
      "outputs": [
        {
          "name": "stdout",
          "output_type": "stream",
          "text": [
            "\n",
            "7-Zip [64] 16.02 : Copyright (c) 1999-2016 Igor Pavlov : 2016-05-21\n",
            "p7zip Version 16.02 (locale=en_US.UTF-8,Utf16=on,HugeFiles=on,64 bits,2 CPUs Intel(R) Xeon(R) CPU @ 2.00GHz (50653),ASM,AES-NI)\n",
            "\n",
            "Scanning the drive for archives:\n",
            "  0M Scan /content/drive/MyDrive/\b\b\b\b\b\b\b\b\b\b\b\b\b\b\b\b\b\b\b\b\b\b\b\b\b\b\b\b\b\b\b\b\b                                 \b\b\b\b\b\b\b\b\b\b\b\b\b\b\b\b\b\b\b\b\b\b\b\b\b\b\b\b\b\b\b\b\b1 file, 84716977 bytes (81 MiB)\n",
            "\n",
            "Extracting archive: /content/drive/MyDrive/Dataset.zip\n",
            " 11% 4096 Open\b\b\b\b\b\b\b\b\b\b\b\b\b\b              \b\b\b\b\b\b\b\b\b\b\b\b\b\b--\n",
            "Path = /content/drive/MyDrive/Dataset.zip\n",
            "Type = zip\n",
            "Physical Size = 84716977\n",
            "\n",
            "  0%\b\b\b\b    \b\b\b\b\n",
            "Would you like to replace the existing file:\n",
            "  Path:     ./Dataset/0/0_10000_1577671998.6491628.png\n",
            "  Size:     2441 bytes (3 KiB)\n",
            "  Modified: 2019-12-29 23:13:20\n",
            "with the file from archive:\n",
            "  Path:     Dataset/0/0_10000_1577671998.6491628.png\n",
            "  Size:     2441 bytes (3 KiB)\n",
            "  Modified: 2019-12-29 23:13:20\n",
            "? (Y)es / (N)o / (A)lways / (S)kip all / A(u)to rename all / (Q)uit? q\n",
            "\n",
            "Archives with Errors: 1\n",
            "\n",
            "\n",
            "\n",
            "Break signaled\n"
          ]
        }
      ],
      "source": [
        "!7z x '/content/drive/MyDrive/Dataset.zip'"
      ]
    },
    {
      "cell_type": "code",
      "execution_count": 86,
      "metadata": {
        "colab": {
          "base_uri": "https://localhost:8080/"
        },
        "id": "dSsErGQmLfFX",
        "outputId": "c4e33e44-58f2-4430-83cf-3e288835cf5c"
      },
      "outputs": [
        {
          "name": "stdout",
          "output_type": "stream",
          "text": [
            "total classes detected 43\n",
            "0 1 2 3 4 5 6 7 8 9 10 11 12 13 14 15 16 17 18 19 20 21 22 23 24 25 26 27 28 29 30 31 32 33 34 35 36 37 38 39 40 41 42 "
          ]
        }
      ],
      "source": [
        "path=\"/content/Dataset\"\n",
        "labelFile='/content/labels.csv'\n",
        "batch_size=32\n",
        "imageD=0.2\n",
        "testR=0.2\n",
        "validR=0.2\n",
        "count=0\n",
        "images=[]\n",
        "classNo=[]\n",
        "myList=os.listdir(path)\n",
        "print(\"total classes detected 43\")\n",
        "len(myList)\n",
        "\n",
        "for x in range (0,len(myList)):\n",
        "    myPicList = os.listdir(path+\"/\"+str(count))\n",
        "    for y in myPicList:\n",
        "        curImg = cv2.imread(path+\"/\"+str(count)+\"/\"+y)\n",
        "        images.append(curImg)\n",
        "        classNo.append(count)\n",
        "    print(count, end =\" \")\n",
        "    count +=1"
      ]
    },
    {
      "cell_type": "code",
      "execution_count": 87,
      "metadata": {
        "colab": {
          "base_uri": "https://localhost:8080/"
        },
        "id": "rL6XFOrByt38",
        "outputId": "2b6e2be0-c268-4d26-eda9-525b28bda374"
      },
      "outputs": [
        {
          "data": {
            "text/plain": [
              "(34799, 32, 32)"
            ]
          },
          "execution_count": 87,
          "metadata": {},
          "output_type": "execute_result"
        }
      ],
      "source": [
        "len(images),len(images[0]),len(images[1])"
      ]
    },
    {
      "cell_type": "code",
      "execution_count": 88,
      "metadata": {
        "colab": {
          "base_uri": "https://localhost:8080/",
          "height": 34
        },
        "id": "FHiKikKm-O2w",
        "outputId": "f05e47e0-66e1-46cb-d198-4123a010e093"
      },
      "outputs": [
        {
          "data": {
            "image/png": "[encoded data removed]",
            "text/plain": [
              "<IPython.core.display.Image object>"
            ]
          },
          "execution_count": 88,
          "metadata": {},
          "output_type": "execute_result"
        }
      ],
      "source": [
        "from IPython.display import Image\n",
        "Image(images[77])"
      ]
    },
    {
      "cell_type": "code",
      "execution_count": 89,
      "metadata": {
        "id": "ZcqyZ62x9Pi0"
      },
      "outputs": [],
      "source": [
        "k=images"
      ]
    },
    {
      "cell_type": "code",
      "execution_count": 90,
      "metadata": {
        "id": "TqvGwEg15G0p"
      },
      "outputs": [],
      "source": [
        "images=np.array(images)\n",
        "classNo=np.array(classNo)"
      ]
    },
    {
      "cell_type": "code",
      "execution_count": 91,
      "metadata": {
        "colab": {
          "base_uri": "https://localhost:8080/"
        },
        "id": "sVr0uwPxua4a",
        "outputId": "d6d9002e-5b2b-4f3b-8305-f1f21225e49d"
      },
      "outputs": [
        {
          "data": {
            "text/plain": [
              "(34799, 32, 32, 3)"
            ]
          },
          "execution_count": 91,
          "metadata": {},
          "output_type": "execute_result"
        }
      ],
      "source": [
        "images.shape"
      ]
    },
    {
      "cell_type": "code",
      "execution_count": 92,
      "metadata": {
        "colab": {
          "base_uri": "https://localhost:8080/"
        },
        "id": "MRgFnmnwyeSl",
        "outputId": "790eae24-bf04-4bc9-e6af-16ab85a4c84c"
      },
      "outputs": [
        {
          "data": {
            "text/plain": [
              "array([[[[180, 150, 142],\n",
              "         [174, 143, 127],\n",
              "         [163, 122,  92],\n",
              "         ...,\n",
              "         [175, 124,  92],\n",
              "         [173, 121,  90],\n",
              "         [170, 118,  85]],\n",
              "\n",
              "        [[175, 143, 144],\n",
              "         [163, 131, 124],\n",
              "         [158, 117,  92],\n",
              "         ...,\n",
              "         [171, 125, 106],\n",
              "         [171, 126, 106],\n",
              "         [169, 123, 102]],\n",
              "\n",
              "        [[145, 128, 135],\n",
              "         [153, 136, 139],\n",
              "         [159, 140, 121],\n",
              "         ...,\n",
              "         [169, 147, 151],\n",
              "         [167, 146, 148],\n",
              "         [169, 146, 148]],\n",
              "\n",
              "        ...,\n",
              "\n",
              "        [[ 90,  93,  91],\n",
              "         [ 91,  92,  89],\n",
              "         [ 97,  94,  90],\n",
              "         ...,\n",
              "         [ 82,  86,  83],\n",
              "         [ 82,  85,  84],\n",
              "         [ 82,  84,  84]],\n",
              "\n",
              "        [[ 91,  93,  89],\n",
              "         [ 94,  94,  90],\n",
              "         [103,  97,  91],\n",
              "         ...,\n",
              "         [ 82,  84,  82],\n",
              "         [ 82,  83,  83],\n",
              "         [ 82,  84,  84]],\n",
              "\n",
              "        [[ 98,  98,  92],\n",
              "         [101,  99,  94],\n",
              "         [108, 101,  96],\n",
              "         ...,\n",
              "         [ 81,  82,  82],\n",
              "         [ 81,  83,  82],\n",
              "         [ 82,  83,  83]]],\n",
              "\n",
              "\n",
              "       [[[ 20,  22,  23],\n",
              "         [ 22,  24,  25],\n",
              "         [ 24,  25,  27],\n",
              "         ...,\n",
              "         [ 22,  22,  21],\n",
              "         [ 22,  21,  21],\n",
              "         [ 20,  20,  20]],\n",
              "\n",
              "        [[ 20,  21,  22],\n",
              "         [ 22,  23,  26],\n",
              "         [ 26,  27,  31],\n",
              "         ...,\n",
              "         [ 24,  23,  23],\n",
              "         [ 25,  24,  24],\n",
              "         [ 23,  23,  23]],\n",
              "\n",
              "        [[ 22,  22,  23],\n",
              "         [ 24,  24,  27],\n",
              "         [ 28,  29,  34],\n",
              "         ...,\n",
              "         [ 26,  25,  24],\n",
              "         [ 28,  24,  23],\n",
              "         [ 26,  24,  23]],\n",
              "\n",
              "        ...,\n",
              "\n",
              "        [[136, 114, 103],\n",
              "         [183, 150, 134],\n",
              "         [218, 173, 158],\n",
              "         ...,\n",
              "         [ 61,  54,  51],\n",
              "         [ 31,  34,  32],\n",
              "         [ 24,  26,  25]],\n",
              "\n",
              "        [[138, 116, 105],\n",
              "         [185, 152, 136],\n",
              "         [219, 174, 159],\n",
              "         ...,\n",
              "         [ 60,  54,  49],\n",
              "         [ 31,  33,  31],\n",
              "         [ 24,  26,  24]],\n",
              "\n",
              "        [[139, 117, 107],\n",
              "         [188, 155, 140],\n",
              "         [220, 176, 161],\n",
              "         ...,\n",
              "         [ 59,  54,  50],\n",
              "         [ 30,  33,  32],\n",
              "         [ 23,  26,  26]]],\n",
              "\n",
              "\n",
              "       [[[ 19,  21,  26],\n",
              "         [ 20,  23,  30],\n",
              "         [ 23,  26,  32],\n",
              "         ...,\n",
              "         [ 18,  17,  17],\n",
              "         [ 18,  18,  18],\n",
              "         [ 16,  16,  16]],\n",
              "\n",
              "        [[ 28,  31,  36],\n",
              "         [ 43,  39,  46],\n",
              "         [ 51,  43,  49],\n",
              "         ...,\n",
              "         [ 22,  22,  21],\n",
              "         [ 22,  23,  23],\n",
              "         [ 20,  21,  20]],\n",
              "\n",
              "        [[ 55,  53,  60],\n",
              "         [ 70,  60,  72],\n",
              "         [ 81,  66,  72],\n",
              "         ...,\n",
              "         [ 34,  34,  31],\n",
              "         [ 34,  35,  32],\n",
              "         [ 32,  33,  29]],\n",
              "\n",
              "        ...,\n",
              "\n",
              "        [[152, 146, 149],\n",
              "         [167, 160, 160],\n",
              "         [173, 164, 164],\n",
              "         ...,\n",
              "         [121, 128, 131],\n",
              "         [129, 136, 137],\n",
              "         [156, 147, 147]],\n",
              "\n",
              "        [[152, 144, 147],\n",
              "         [165, 157, 157],\n",
              "         [171, 163, 162],\n",
              "         ...,\n",
              "         [ 93, 110, 107],\n",
              "         [101, 120, 117],\n",
              "         [140, 138, 139]],\n",
              "\n",
              "        [[154, 145, 147],\n",
              "         [163, 155, 155],\n",
              "         [171, 164, 162],\n",
              "         ...,\n",
              "         [ 87, 107, 104],\n",
              "         [ 94, 118, 116],\n",
              "         [129, 133, 134]]],\n",
              "\n",
              "\n",
              "       ...,\n",
              "\n",
              "\n",
              "       [[[ 17,  17,  19],\n",
              "         [ 24,  26,  30],\n",
              "         [ 26,  29,  36],\n",
              "         ...,\n",
              "         [ 18,  17,  19],\n",
              "         [ 19,  18,  20],\n",
              "         [ 20,  18,  21]],\n",
              "\n",
              "        [[ 20,  20,  21],\n",
              "         [ 27,  26,  27],\n",
              "         [ 29,  29,  31],\n",
              "         ...,\n",
              "         [ 17,  17,  20],\n",
              "         [ 18,  16,  19],\n",
              "         [ 19,  18,  20]],\n",
              "\n",
              "        [[ 21,  20,  22],\n",
              "         [ 36,  30,  31],\n",
              "         [ 45,  41,  44],\n",
              "         ...,\n",
              "         [ 18,  17,  20],\n",
              "         [ 17,  16,  19],\n",
              "         [ 18,  17,  20]],\n",
              "\n",
              "        ...,\n",
              "\n",
              "        [[ 18,  16,  19],\n",
              "         [ 19,  18,  21],\n",
              "         [ 20,  21,  23],\n",
              "         ...,\n",
              "         [ 15,  15,  16],\n",
              "         [ 16,  15,  17],\n",
              "         [ 16,  14,  17]],\n",
              "\n",
              "        [[ 18,  16,  19],\n",
              "         [ 18,  17,  20],\n",
              "         [ 19,  19,  22],\n",
              "         ...,\n",
              "         [ 15,  14,  15],\n",
              "         [ 15,  15,  16],\n",
              "         [ 17,  16,  17]],\n",
              "\n",
              "        [[ 18,  16,  20],\n",
              "         [ 18,  17,  20],\n",
              "         [ 18,  18,  20],\n",
              "         ...,\n",
              "         [ 14,  13,  16],\n",
              "         [ 15,  14,  16],\n",
              "         [ 15,  15,  17]]],\n",
              "\n",
              "\n",
              "       [[[255, 255, 255],\n",
              "         [253, 255, 255],\n",
              "         [254, 255, 255],\n",
              "         ...,\n",
              "         [255, 255, 255],\n",
              "         [255, 255, 255],\n",
              "         [255, 255, 255]],\n",
              "\n",
              "        [[253, 255, 255],\n",
              "         [253, 255, 255],\n",
              "         [253, 255, 255],\n",
              "         ...,\n",
              "         [255, 255, 255],\n",
              "         [255, 255, 255],\n",
              "         [255, 255, 255]],\n",
              "\n",
              "        [[251, 255, 255],\n",
              "         [252, 255, 255],\n",
              "         [253, 255, 255],\n",
              "         ...,\n",
              "         [255, 255, 255],\n",
              "         [255, 255, 255],\n",
              "         [255, 255, 255]],\n",
              "\n",
              "        ...,\n",
              "\n",
              "        [[212, 224, 233],\n",
              "         [214, 223, 233],\n",
              "         [213, 222, 236],\n",
              "         ...,\n",
              "         [210, 231, 240],\n",
              "         [178, 203, 225],\n",
              "         [ 84,  93, 111]],\n",
              "\n",
              "        [[210, 220, 228],\n",
              "         [211, 221, 230],\n",
              "         [209, 220, 232],\n",
              "         ...,\n",
              "         [208, 228, 236],\n",
              "         [182, 206, 224],\n",
              "         [ 91, 101, 115]],\n",
              "\n",
              "        [[210, 222, 227],\n",
              "         [212, 224, 229],\n",
              "         [210, 223, 230],\n",
              "         ...,\n",
              "         [208, 227, 238],\n",
              "         [187, 208, 232],\n",
              "         [ 97, 105, 123]]],\n",
              "\n",
              "\n",
              "       [[[ 16,  15,  18],\n",
              "         [ 16,  16,  19],\n",
              "         [ 15,  15,  18],\n",
              "         ...,\n",
              "         [ 14,  13,  15],\n",
              "         [ 14,  14,  16],\n",
              "         [ 14,  14,  17]],\n",
              "\n",
              "        [[ 15,  15,  17],\n",
              "         [ 15,  15,  17],\n",
              "         [ 15,  15,  17],\n",
              "         ...,\n",
              "         [ 14,  13,  15],\n",
              "         [ 14,  13,  16],\n",
              "         [ 14,  14,  17]],\n",
              "\n",
              "        [[ 15,  15,  17],\n",
              "         [ 15,  15,  17],\n",
              "         [ 15,  15,  17],\n",
              "         ...,\n",
              "         [ 15,  13,  15],\n",
              "         [ 15,  14,  16],\n",
              "         [ 15,  14,  17]],\n",
              "\n",
              "        ...,\n",
              "\n",
              "        [[ 16,  15,  19],\n",
              "         [ 16,  15,  19],\n",
              "         [ 15,  14,  17],\n",
              "         ...,\n",
              "         [ 15,  13,  16],\n",
              "         [ 14,  13,  15],\n",
              "         [ 13,  13,  15]],\n",
              "\n",
              "        [[ 16,  15,  19],\n",
              "         [ 15,  14,  18],\n",
              "         [ 14,  13,  17],\n",
              "         ...,\n",
              "         [ 14,  13,  16],\n",
              "         [ 13,  13,  16],\n",
              "         [ 14,  14,  17]],\n",
              "\n",
              "        [[ 16,  14,  17],\n",
              "         [ 16,  15,  18],\n",
              "         [ 14,  13,  16],\n",
              "         ...,\n",
              "         [ 14,  13,  16],\n",
              "         [ 14,  14,  16],\n",
              "         [ 14,  14,  16]]]], dtype=uint8)"
            ]
          },
          "execution_count": 92,
          "metadata": {},
          "output_type": "execute_result"
        }
      ],
      "source": [
        "images"
      ]
    },
    {
      "cell_type": "code",
      "execution_count": 93,
      "metadata": {
        "id": "IcXB5nY25gc3"
      },
      "outputs": [],
      "source": [
        "from sklearn.model_selection import train_test_split\n",
        "\n",
        "# Assuming 'images' is your data and 'classNo' is your labels\n",
        "X_TRAIN, X_TEST, Y_TRAIN, Y_TEST = train_test_split(images, classNo, test_size=0.2)\n",
        "Z_TEST=X_TEST\n",
        "X_TRAIN, X_VALIDATION, Y_TRAIN, Y_VALIDATION = train_test_split(X_TRAIN, Y_TRAIN, test_size=0.2)\n"
      ]
    },
    {
      "cell_type": "code",
      "execution_count": 94,
      "metadata": {
        "colab": {
          "base_uri": "https://localhost:8080/"
        },
        "id": "DPdgyVf45JNq",
        "outputId": "e784f9b7-bc96-46e0-cbab-e551d49e88d1"
      },
      "outputs": [
        {
          "name": "stdout",
          "output_type": "stream",
          "text": [
            "(22271, 32, 32, 3)\n",
            "(6960, 32, 32, 3)\n",
            "(5568, 32, 32, 3)\n"
          ]
        }
      ],
      "source": [
        "print(X_TRAIN.shape)\n",
        "print(X_TEST.shape)\n",
        "print(X_VALIDATION.shape)"
      ]
    },
    {
      "cell_type": "code",
      "execution_count": 95,
      "metadata": {
        "colab": {
          "base_uri": "https://localhost:8080/"
        },
        "id": "uq_jTcS_zZWN",
        "outputId": "86702a3e-614e-4137-de5e-f7e7a6fa24bb"
      },
      "outputs": [
        {
          "data": {
            "text/plain": [
              "array([[[ 64,  61,  49],\n",
              "        [ 57,  57,  47],\n",
              "        [ 56,  56,  48],\n",
              "        ...,\n",
              "        [ 68,  58,  51],\n",
              "        [ 77,  64,  57],\n",
              "        [ 85,  73,  62]],\n",
              "\n",
              "       [[ 81,  68,  56],\n",
              "        [ 74,  64,  53],\n",
              "        [ 70,  61,  52],\n",
              "        ...,\n",
              "        [ 70,  63,  54],\n",
              "        [ 78,  69,  59],\n",
              "        [ 91,  80,  66]],\n",
              "\n",
              "       [[107,  84,  69],\n",
              "        [113,  93,  78],\n",
              "        [103,  84,  70],\n",
              "        ...,\n",
              "        [ 67,  64,  58],\n",
              "        [ 79,  73,  60],\n",
              "        [ 89,  80,  65]],\n",
              "\n",
              "       ...,\n",
              "\n",
              "       [[ 92,  87,  78],\n",
              "        [ 83,  81,  75],\n",
              "        [ 77,  77,  71],\n",
              "        ...,\n",
              "        [123,  94,  74],\n",
              "        [126, 103,  81],\n",
              "        [113, 102,  84]],\n",
              "\n",
              "       [[ 99,  93,  82],\n",
              "        [ 81,  81,  74],\n",
              "        [ 77,  80,  73],\n",
              "        ...,\n",
              "        [116,  91,  72],\n",
              "        [117,  97,  75],\n",
              "        [116, 107,  90]],\n",
              "\n",
              "       [[ 89,  84,  78],\n",
              "        [ 79,  82,  77],\n",
              "        [ 74,  81,  77],\n",
              "        ...,\n",
              "        [107,  86,  71],\n",
              "        [108,  91,  72],\n",
              "        [ 99,  92,  76]]], dtype=uint8)"
            ]
          },
          "execution_count": 95,
          "metadata": {},
          "output_type": "execute_result"
        }
      ],
      "source": [
        "X_TRAIN[0]"
      ]
    },
    {
      "cell_type": "code",
      "execution_count": 96,
      "metadata": {
        "colab": {
          "base_uri": "https://localhost:8080/"
        },
        "id": "W2lJG1_Z5n4l",
        "outputId": "18f39804-5a2d-4e30-f610-2424fea8315c"
      },
      "outputs": [
        {
          "data": {
            "text/plain": [
              "(43, 2)"
            ]
          },
          "execution_count": 96,
          "metadata": {},
          "output_type": "execute_result"
        }
      ],
      "source": [
        "DATA=pd.read_csv(labelFile)\n",
        "DATA.shape"
      ]
    },
    {
      "cell_type": "code",
      "execution_count": 97,
      "metadata": {
        "id": "dMnUYZeE51MI"
      },
      "outputs": [],
      "source": [
        "def grayscale(img):\n",
        "  img=cv2.cvtColor(img,cv2.COLOR_BGR2GRAY)\n",
        "  return img\n",
        "def equalize(img):\n",
        "  img=cv2.equalizeHist(img)\n",
        "  return img\n",
        "def preprocessing(img):\n",
        "  img=grayscale(img)\n",
        "  img=equalize(img)\n",
        "  img=img/255\n",
        "  return img\n",
        "# normalizing it\n"
      ]
    },
    {
      "cell_type": "code",
      "execution_count": 98,
      "metadata": {
        "colab": {
          "base_uri": "https://localhost:8080/"
        },
        "id": "aMku1ggA9g5M",
        "outputId": "4828af82-ce88-4390-d666-0719e6abaae3"
      },
      "outputs": [
        {
          "data": {
            "text/plain": [
              "(22271, 32)"
            ]
          },
          "execution_count": 98,
          "metadata": {},
          "output_type": "execute_result"
        }
      ],
      "source": [
        "X_TRAIN.shape[0],X_TRAIN.shape[1]"
      ]
    },
    {
      "cell_type": "code",
      "execution_count": 99,
      "metadata": {
        "id": "SpUKR-D_7tpP"
      },
      "outputs": [],
      "source": [
        "\n",
        "X_TRAIN=np.array(list(map(preprocessing,X_TRAIN)))\n",
        "X_VALIDATION=np.array(list(map(preprocessing,X_VALIDATION)))\n",
        "X_TEST=np.array(list(map(preprocessing,X_TEST)))"
      ]
    },
    {
      "cell_type": "code",
      "execution_count": 100,
      "metadata": {
        "id": "4cjmLnnx8zKi"
      },
      "outputs": [],
      "source": [
        "X_TRAIN = X_TRAIN.reshape(X_TRAIN.shape[0], X_TRAIN.shape[1], X_TRAIN.shape[2], 1)\n",
        "X_VALIDATION = X_VALIDATION.reshape(X_VALIDATION.shape[0], X_VALIDATION.shape[1], X_VALIDATION.shape[2], 1)\n",
        "X_TEST = X_TEST.reshape(X_TEST.shape[0], X_TEST.shape[1], X_TEST.shape[2], 1)\n"
      ]
    },
    {
      "cell_type": "code",
      "execution_count": 101,
      "metadata": {
        "colab": {
          "base_uri": "https://localhost:8080/"
        },
        "id": "_ZEXeR8J91Eh",
        "outputId": "5c9caa08-2de6-4ce0-9ebc-5dcca4c97df0"
      },
      "outputs": [
        {
          "name": "stdout",
          "output_type": "stream",
          "text": [
            "(22271, 32, 32, 1)\n",
            "(6960, 32, 32, 1)\n",
            "(5568, 32, 32, 1)\n"
          ]
        }
      ],
      "source": [
        "print(X_TRAIN.shape)\n",
        "print(X_TEST.shape)\n",
        "print(X_VALIDATION.shape)"
      ]
    },
    {
      "cell_type": "code",
      "execution_count": 102,
      "metadata": {
        "id": "1tVWOSHA8drh"
      },
      "outputs": [],
      "source": [
        "DATAGEN=ImageDataGenerator(width_shift_range=0.1,height_shift_range=0.1,zoom_range=0.2,shear_range=0.1,rotation_range=10)\n",
        "# data augmentation\n",
        "DATAGEN.fit(X_TRAIN)"
      ]
    },
    {
      "cell_type": "code",
      "execution_count": 103,
      "metadata": {
        "id": "b7dV5f1K-njF"
      },
      "outputs": [],
      "source": [
        "Y_TRAIN=to_categorical(Y_TRAIN,43)\n",
        "Y_VALIDATION=to_categorical(Y_VALIDATION,43)\n",
        "\n",
        "\n",
        "Y_TEST=to_categorical(Y_TEST,43)"
      ]
    },
    {
      "cell_type": "code",
      "execution_count": 103,
      "metadata": {
        "id": "KR-GiMXl_rk9"
      },
      "outputs": [],
      "source": []
    },
    {
      "cell_type": "code",
      "execution_count": 104,
      "metadata": {
        "id": "1dHstEsm-8x6"
      },
      "outputs": [],
      "source": [
        "def models():\n",
        "  model=Sequential()\n",
        "  model.add((Conv2D(60,(5,5),input_shape=(32,32,1),activation='relu')))\n",
        "  # kept 1 cause grey scale\n",
        "  model.add((Conv2D(60, (5,5), activation='relu')))\n",
        "  model.add(MaxPooling2D(pool_size=(2,2)))\n",
        "  model.add((Conv2D(30, (3,3),activation='relu')))\n",
        "  model.add((Conv2D(30, (3,3), activation='relu')))\n",
        "  model.add(MaxPooling2D(pool_size=(2,2)))\n",
        "  model.add(Dropout(0.5))\n",
        "  model.add(Flatten())\n",
        "  model.add(Dense(500,activation='relu'))\n",
        "  model.add(Dropout(0.5))\n",
        "  model.add(Dense(43,activation='softmax'))\n",
        "  # compiling\n",
        "  model.compile(Adam(lr=0.001),loss='categorical_crossentropy',metrics=['accuracy'])\n",
        "  return model"
      ]
    },
    {
      "cell_type": "code",
      "execution_count": 105,
      "metadata": {
        "colab": {
          "base_uri": "https://localhost:8080/"
        },
        "id": "9F8aIpoSAmp_",
        "outputId": "0c95e7b5-fb2b-4b38-bdb3-8e6390ba185c"
      },
      "outputs": [
        {
          "name": "stderr",
          "output_type": "stream",
          "text": [
            "WARNING:absl:`lr` is deprecated in Keras optimizer, please use `learning_rate` or use the legacy optimizer, e.g.,tf.keras.optimizers.legacy.Adam.\n"
          ]
        },
        {
          "name": "stdout",
          "output_type": "stream",
          "text": [
            "Model: \"sequential_1\"\n",
            "_________________________________________________________________\n",
            " Layer (type)                Output Shape              Param #   \n",
            "=================================================================\n",
            " conv2d_4 (Conv2D)           (None, 28, 28, 60)        1560      \n",
            "                                                                 \n",
            " conv2d_5 (Conv2D)           (None, 24, 24, 60)        90060     \n",
            "                                                                 \n",
            " max_pooling2d_2 (MaxPoolin  (None, 12, 12, 60)        0         \n",
            " g2D)                                                            \n",
            "                                                                 \n",
            " conv2d_6 (Conv2D)           (None, 10, 10, 30)        16230     \n",
            "                                                                 \n",
            " conv2d_7 (Conv2D)           (None, 8, 8, 30)          8130      \n",
            "                                                                 \n",
            " max_pooling2d_3 (MaxPoolin  (None, 4, 4, 30)          0         \n",
            " g2D)                                                            \n",
            "                                                                 \n",
            " dropout_2 (Dropout)         (None, 4, 4, 30)          0         \n",
            "                                                                 \n",
            " flatten_1 (Flatten)         (None, 480)               0         \n",
            "                                                                 \n",
            " dense_2 (Dense)             (None, 500)               240500    \n",
            "                                                                 \n",
            " dropout_3 (Dropout)         (None, 500)               0         \n",
            "                                                                 \n",
            " dense_3 (Dense)             (None, 43)                21543     \n",
            "                                                                 \n",
            "=================================================================\n",
            "Total params: 378023 (1.44 MB)\n",
            "Trainable params: 378023 (1.44 MB)\n",
            "Non-trainable params: 0 (0.00 Byte)\n",
            "_________________________________________________________________\n"
          ]
        }
      ],
      "source": [
        "model=models()\n",
        "model.summary()"
      ]
    },
    {
      "cell_type": "code",
      "execution_count": 106,
      "metadata": {
        "colab": {
          "base_uri": "https://localhost:8080/"
        },
        "id": "S2qu8DghBr-S",
        "outputId": "d393e682-a786-476b-9a6a-6bdfeb95c271"
      },
      "outputs": [
        {
          "name": "stdout",
          "output_type": "stream",
          "text": [
            "Epoch 1/15\n"
          ]
        },
        {
          "name": "stderr",
          "output_type": "stream",
          "text": [
            "<ipython-input-106-d4b653f8f7ac>:1: UserWarning: `Model.fit_generator` is deprecated and will be removed in a future version. Please use `Model.fit`, which supports generators.\n",
            "  model.fit_generator(DATAGEN.flow(X_TRAIN,Y_TRAIN,batch_size=32),steps_per_epoch=43,epochs=15,validation_data=(X_VALIDATION,Y_VALIDATION\n"
          ]
        },
        {
          "name": "stdout",
          "output_type": "stream",
          "text": [
            "43/43 [==============================] - 3s 34ms/step - loss: 3.6251 - accuracy: 0.0523 - val_loss: 3.4888 - val_accuracy: 0.0521\n",
            "Epoch 2/15\n",
            "43/43 [==============================] - 1s 30ms/step - loss: 3.5017 - accuracy: 0.0676 - val_loss: 3.4422 - val_accuracy: 0.0620\n",
            "Epoch 3/15\n",
            "43/43 [==============================] - 1s 30ms/step - loss: 3.4891 - accuracy: 0.0640 - val_loss: 3.2357 - val_accuracy: 0.2369\n",
            "Epoch 4/15\n",
            "43/43 [==============================] - 1s 24ms/step - loss: 3.2942 - accuracy: 0.1446 - val_loss: 2.6792 - val_accuracy: 0.2579\n",
            "Epoch 5/15\n",
            "43/43 [==============================] - 1s 23ms/step - loss: 2.9251 - accuracy: 0.2158 - val_loss: 2.1435 - val_accuracy: 0.4364\n",
            "Epoch 6/15\n",
            "43/43 [==============================] - 1s 26ms/step - loss: 2.6338 - accuracy: 0.2805 - val_loss: 1.8124 - val_accuracy: 0.5061\n",
            "Epoch 7/15\n",
            "43/43 [==============================] - 2s 41ms/step - loss: 2.4645 - accuracy: 0.3278 - val_loss: 1.5722 - val_accuracy: 0.5524\n",
            "Epoch 8/15\n",
            "43/43 [==============================] - 2s 39ms/step - loss: 2.2558 - accuracy: 0.3481 - val_loss: 1.4289 - val_accuracy: 0.5636\n",
            "Epoch 9/15\n",
            "43/43 [==============================] - 1s 25ms/step - loss: 2.0725 - accuracy: 0.3924 - val_loss: 1.3842 - val_accuracy: 0.5747\n",
            "Epoch 10/15\n",
            "43/43 [==============================] - 1s 30ms/step - loss: 1.9265 - accuracy: 0.4179 - val_loss: 1.2738 - val_accuracy: 0.6160\n",
            "Epoch 11/15\n",
            "43/43 [==============================] - 1s 24ms/step - loss: 1.8558 - accuracy: 0.4368 - val_loss: 1.1548 - val_accuracy: 0.6782\n",
            "Epoch 12/15\n",
            "43/43 [==============================] - 1s 26ms/step - loss: 1.7705 - accuracy: 0.4651 - val_loss: 0.9925 - val_accuracy: 0.6976\n",
            "Epoch 13/15\n",
            "43/43 [==============================] - 1s 30ms/step - loss: 1.7491 - accuracy: 0.4767 - val_loss: 0.9686 - val_accuracy: 0.7473\n",
            "Epoch 14/15\n",
            "43/43 [==============================] - 1s 30ms/step - loss: 1.6588 - accuracy: 0.5145 - val_loss: 0.8368 - val_accuracy: 0.7527\n",
            "Epoch 15/15\n",
            "43/43 [==============================] - 2s 39ms/step - loss: 1.5265 - accuracy: 0.5356 - val_loss: 0.8786 - val_accuracy: 0.7557\n"
          ]
        },
        {
          "data": {
            "text/plain": [
              "<keras.src.callbacks.History at 0x7951c02221d0>"
            ]
          },
          "execution_count": 106,
          "metadata": {},
          "output_type": "execute_result"
        }
      ],
      "source": [
        "model.fit_generator(DATAGEN.flow(X_TRAIN,Y_TRAIN,batch_size=32),steps_per_epoch=43,epochs=15,validation_data=(X_VALIDATION,Y_VALIDATION\n",
        "),shuffle=1)"
      ]
    },
    {
      "cell_type": "code",
      "execution_count": 107,
      "metadata": {
        "colab": {
          "base_uri": "https://localhost:8080/"
        },
        "id": "cSAXh9ATAV2s",
        "outputId": "da3badba-8c71-4cb2-c192-c927edfbf095"
      },
      "outputs": [
        {
          "name": "stdout",
          "output_type": "stream",
          "text": [
            "218/218 [==============================] - 1s 4ms/step - loss: 0.8670 - accuracy: 0.7583\n"
          ]
        },
        {
          "data": {
            "text/plain": [
              "[0.8669893145561218, 0.7583333253860474]"
            ]
          },
          "execution_count": 107,
          "metadata": {},
          "output_type": "execute_result"
        }
      ],
      "source": [
        "model.evaluate(X_TEST,Y_TEST)"
      ]
    },
    {
      "cell_type": "code",
      "execution_count": 117,
      "metadata": {
        "colab": {
          "base_uri": "https://localhost:8080/"
        },
        "id": "aGFgIJy-k3ce",
        "outputId": "dc47620c-daba-4c87-cde7-9027b0fd0396"
      },
      "outputs": [
        {
          "data": {
            "text/plain": [
              "(1, 32, 32, 1)"
            ]
          },
          "execution_count": 117,
          "metadata": {},
          "output_type": "execute_result"
        }
      ],
      "source": [
        "img=image.load_img('/content/test32.jpg',target_size=(224,224))\n",
        "\n",
        "img = np.asarray(img)\n",
        "img = cv2.resize(img, (32, 32))\n",
        "img = preprocessing(img)\n",
        "\n",
        "img = img.reshape(1, 32, 32, 1)\n",
        "#\n",
        "img.shape\n"
      ]
    },
    {
      "cell_type": "code",
      "execution_count": 118,
      "metadata": {
        "colab": {
          "base_uri": "https://localhost:8080/",
          "height": 49
        },
        "id": "tWk0RFbw2TQJ",
        "outputId": "88388064-91ae-4ff1-c019-10da1482cfcc"
      },
      "outputs": [
        {
          "data": {
            "image/jpeg": "[encoded data removed]",
            "text/plain": [
              "<IPython.core.display.Image object>"
            ]
          },
          "execution_count": 118,
          "metadata": {},
          "output_type": "execute_result"
        }
      ],
      "source": [
        "from IPython.display import Image\n",
        "Image('/content/test32.jpg')"
      ]
    },
    {
      "cell_type": "code",
      "execution_count": 119,
      "metadata": {
        "colab": {
          "base_uri": "https://localhost:8080/"
        },
        "id": "N1WPIr0ukbN6",
        "outputId": "d696c764-81dc-4541-a320-fc81fcade85d"
      },
      "outputs": [
        {
          "name": "stdout",
          "output_type": "stream",
          "text": [
            "1/1 [==============================] - 0s 17ms/step\n"
          ]
        },
        {
          "data": {
            "text/plain": [
              "array([[4.11351249e-02, 9.02703851e-02, 7.24261627e-02, 4.37540740e-01,\n",
              "        1.66520551e-02, 1.46245807e-01, 8.18999391e-03, 4.77189198e-02,\n",
              "        5.25576659e-02, 4.04033810e-02, 5.64299291e-03, 6.73871327e-05,\n",
              "        1.15913914e-04, 3.22840060e-04, 1.43557054e-03, 9.73001681e-03,\n",
              "        3.56978225e-03, 2.26209857e-04, 4.51715925e-04, 2.80751352e-04,\n",
              "        1.43096293e-03, 3.55480151e-04, 2.43323200e-04, 1.41949544e-03,\n",
              "        1.77687631e-04, 3.35596793e-04, 5.23649680e-04, 2.23188224e-04,\n",
              "        1.21474662e-03, 3.16426711e-04, 2.26406904e-04, 1.62759994e-03,\n",
              "        3.15283868e-03, 4.32947883e-03, 1.58008508e-04, 1.21473847e-03,\n",
              "        7.90313876e-04, 5.13208273e-04, 6.89365086e-04, 1.82011141e-03,\n",
              "        1.02101429e-03, 1.17993169e-03, 2.05303379e-03]], dtype=float32)"
            ]
          },
          "execution_count": 119,
          "metadata": {},
          "output_type": "execute_result"
        }
      ],
      "source": [
        "predictions=model.predict(img)\n",
        "predictions"
      ]
    },
    {
      "cell_type": "code",
      "execution_count": 120,
      "metadata": {
        "colab": {
          "base_uri": "https://localhost:8080/"
        },
        "id": "F4ZCAU9hohd2",
        "outputId": "a52ee1d9-fd92-4e42-e13d-d25850cbf9bb"
      },
      "outputs": [
        {
          "data": {
            "text/plain": [
              "array([3])"
            ]
          },
          "execution_count": 120,
          "metadata": {},
          "output_type": "execute_result"
        }
      ],
      "source": [
        "np.argmax(predictions, axis=1)"
      ]
    },
    {
      "cell_type": "markdown",
      "metadata": {},
      "source": [
        "3 is for 60km/hr\n"
      ]
    }
  ],
  "metadata": {
    "accelerator": "GPU",
    "colab": {
      "gpuType": "T4",
      "provenance": []
    },
    "kernelspec": {
      "display_name": "Python 3",
      "name": "python3"
    },
    "language_info": {
      "name": "python"
    }
  },
  "nbformat": 4,
  "nbformat_minor": 0
}
